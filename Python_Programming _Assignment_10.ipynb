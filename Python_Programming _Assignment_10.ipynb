{
 "cells": [
  {
   "cell_type": "markdown",
   "id": "d1e10fab-6e6e-4986-8737-5a0431eeb08f",
   "metadata": {},
   "source": [
    "1. Write a Python program to find sum of elements in list?"
   ]
  },
  {
   "cell_type": "code",
   "execution_count": 1,
   "id": "f1bd8060-3b85-4b87-a16c-e821073ce599",
   "metadata": {},
   "outputs": [
    {
     "name": "stdout",
     "output_type": "stream",
     "text": [
      "The sum of the list elements is: 150\n"
     ]
    }
   ],
   "source": [
    "numbers = [10, 20, 30, 40, 50]\n",
    "total = sum(numbers)\n",
    "print(\"The sum of the list elements is:\", total)\n"
   ]
  },
  {
   "cell_type": "markdown",
   "id": "3e3b3bda-edcc-47a1-aba1-86f7bc68f70b",
   "metadata": {},
   "source": [
    "2. Write a Python program to Multiply all numbers in the list?"
   ]
  },
  {
   "cell_type": "code",
   "execution_count": 4,
   "id": "e9a559f8-94f7-4371-b1e2-53d9183daec1",
   "metadata": {},
   "outputs": [
    {
     "name": "stdout",
     "output_type": "stream",
     "text": [
      "12000000\n"
     ]
    }
   ],
   "source": [
    "numbers = [10, 20, 30, 40, 50]\n",
    "total = 1\n",
    "for i in numbers:\n",
    "    total*=i\n",
    "print(total)"
   ]
  },
  {
   "cell_type": "markdown",
   "id": "fcf10aee-fdb7-4705-ae8a-c3b71a70e61d",
   "metadata": {},
   "source": [
    "3. Write a Python program to find smallest number in a list?"
   ]
  },
  {
   "cell_type": "code",
   "execution_count": 11,
   "id": "666b1ec6-630a-45b5-b1b0-82459a7e841d",
   "metadata": {},
   "outputs": [
    {
     "name": "stdout",
     "output_type": "stream",
     "text": [
      "The smallest number is: 1\n"
     ]
    }
   ],
   "source": [
    "numbers = [5, 2, 8, 1, 9, 3]\n",
    "smallest = numbers[0]  \n",
    "\n",
    "for num in numbers:\n",
    "    if num < smallest:\n",
    "        smallest = num\n",
    "\n",
    "print(\"The smallest number is:\", smallest)\n"
   ]
  },
  {
   "cell_type": "markdown",
   "id": "692e97e5-7860-4f0c-9e81-e1ccafe2652b",
   "metadata": {},
   "source": [
    "4. Write a Python program to find largest number in a list?"
   ]
  },
  {
   "cell_type": "code",
   "execution_count": 13,
   "id": "f7bf9298-16b6-47fe-9ee9-e5c0abbc0a2f",
   "metadata": {},
   "outputs": [
    {
     "name": "stdout",
     "output_type": "stream",
     "text": [
      "The smallest number is: 9\n"
     ]
    }
   ],
   "source": [
    "numbers = [5, 2, 8, 1, 9, 3]\n",
    "largest = numbers[0]  \n",
    "\n",
    "for num in numbers:\n",
    "    if num > largest:\n",
    "        largest = num\n",
    "\n",
    "print(\"The smallest number is:\", largest)\n"
   ]
  },
  {
   "cell_type": "markdown",
   "id": "91874f71-6914-4e34-a3da-8e1700e956ee",
   "metadata": {},
   "source": [
    "5. Write a Python program to find second largest number in a list?"
   ]
  },
  {
   "cell_type": "code",
   "execution_count": 14,
   "id": "67ccbe5f-6470-4748-91fa-0d053ce24eb2",
   "metadata": {},
   "outputs": [
    {
     "name": "stdout",
     "output_type": "stream",
     "text": [
      "Second largest number is: 25\n"
     ]
    }
   ],
   "source": [
    "numbers = [10, 20, 5, 8, 30, 25]\n",
    "\n",
    "first = second = float('-inf')  \n",
    "\n",
    "for num in numbers:\n",
    "    if num > first:\n",
    "        second = first\n",
    "        first = num\n",
    "    elif num > second and num != first:\n",
    "        second = num\n",
    "\n",
    "print(\"Second largest number is:\", second)\n"
   ]
  },
  {
   "cell_type": "markdown",
   "id": "168dc46c-7a0e-4221-9b62-683c37ab3216",
   "metadata": {},
   "source": [
    "6. Write a Python program to find N largest elements from a list."
   ]
  },
  {
   "cell_type": "code",
   "execution_count": 28,
   "id": "1a985df2-a954-4161-9383-3e0545b3dfb9",
   "metadata": {},
   "outputs": [
    {
     "name": "stdout",
     "output_type": "stream",
     "text": [
      "The smallest number is: 9\n"
     ]
    }
   ],
   "source": [
    "numbers = [5, 2, 8, 1, 9, 3]\n",
    "largest = numbers[0]  \n",
    "\n",
    "for num in numbers:\n",
    "    if num > largest:\n",
    "        largest = num\n",
    "\n",
    "print(\"The smallest number is:\", largest)\n"
   ]
  },
  {
   "cell_type": "markdown",
   "id": "eaa63ce7-0661-4a28-ab1a-3dd2ce7130d8",
   "metadata": {},
   "source": [
    "7. Write a Python program to print even numbers in a list?"
   ]
  },
  {
   "cell_type": "code",
   "execution_count": 16,
   "id": "0ea8861b-0344-495b-9580-5c393decb82d",
   "metadata": {},
   "outputs": [
    {
     "name": "stdout",
     "output_type": "stream",
     "text": [
      "Even numbers in the list are:\n",
      "10\n",
      "4\n",
      "66\n"
     ]
    }
   ],
   "source": [
    "numbers = [10, 21, 4, 45, 66, 93, 1]\n",
    "\n",
    "print(\"Even numbers in the list are:\")\n",
    "for num in numbers:\n",
    "    if num % 2 == 0:\n",
    "        print(num)\n"
   ]
  },
  {
   "cell_type": "markdown",
   "id": "a80e0d93-7b39-44a2-a18a-c8c89aec23e5",
   "metadata": {},
   "source": [
    "8. Write a Python program to print odd numbers in a List?"
   ]
  },
  {
   "cell_type": "code",
   "execution_count": 25,
   "id": "8ea77d6d-78fe-496b-97f9-2d4d88227d18",
   "metadata": {},
   "outputs": [
    {
     "name": "stdout",
     "output_type": "stream",
     "text": [
      "Odd numbers in the list are: [21, 45, 93, 1]\n"
     ]
    }
   ],
   "source": [
    "numbers = [10, 21, 4, 45, 66, 93, 1]\n",
    "odd_num = []\n",
    "for num in numbers:\n",
    "    if num % 2 != 0:\n",
    "        odd_num.append(num)\n",
    "        \n",
    "print(\"Odd numbers in the list are:\",odd_num)"
   ]
  },
  {
   "cell_type": "markdown",
   "id": "1427b8b6-6e06-47e2-87ff-4c8cc69f76e3",
   "metadata": {},
   "source": [
    "9. Write a Python program to Remove empty List from List?"
   ]
  },
  {
   "cell_type": "code",
   "execution_count": 17,
   "id": "2f2ed15a-233e-49f7-bc20-8d526ac2a71d",
   "metadata": {},
   "outputs": [
    {
     "name": "stdout",
     "output_type": "stream",
     "text": [
      "List after removing empty lists: [1, 2, 3, 4, 5]\n"
     ]
    }
   ],
   "source": [
    "list_with_empty = [1, [], 2, [], 3, 4, [], 5]\n",
    "new_list = []\n",
    "\n",
    "for item in list_with_empty:\n",
    "    if item != []:\n",
    "        new_list.append(item)\n",
    "\n",
    "print(\"List after removing empty lists:\", new_list)\n"
   ]
  },
  {
   "cell_type": "markdown",
   "id": "8cd03634-0c21-4ca9-be58-6b1e80a4ce9d",
   "metadata": {},
   "source": [
    "10. Write a Python program to Cloning or Copying a list?"
   ]
  },
  {
   "cell_type": "code",
   "execution_count": 29,
   "id": "857c271e-3eb8-434e-97af-c6f58e75779c",
   "metadata": {},
   "outputs": [
    {
     "name": "stdout",
     "output_type": "stream",
     "text": [
      "Original List: [1, 2, 3, 4, 5]\n",
      "Cloned List: [1, 2, 3, 4, 5]\n"
     ]
    }
   ],
   "source": [
    "original_list = [1, 2, 3, 4, 5]\n",
    "cloned_list = list(original_list)\n",
    "\n",
    "print(\"Original List:\", original_list)\n",
    "print(\"Cloned List:\", cloned_list)\n"
   ]
  },
  {
   "cell_type": "markdown",
   "id": "1de88e0e-44f4-4341-8658-dd989f59aeb5",
   "metadata": {},
   "source": [
    "11. Write a Python program to Count occurrences of an element in a list?"
   ]
  },
  {
   "cell_type": "code",
   "execution_count": 30,
   "id": "fb8b720a-a2f2-464d-8bbd-07f29b13bf65",
   "metadata": {},
   "outputs": [
    {
     "name": "stdout",
     "output_type": "stream",
     "text": [
      "2 occurs 3 times\n"
     ]
    }
   ],
   "source": [
    "list1 = [1, 2, 3, 2, 4, 2, 5]\n",
    "element = 2\n",
    "\n",
    "count = list1.count(element)\n",
    "\n",
    "print(f\"{element} occurs {count} times\")\n"
   ]
  },
  {
   "cell_type": "code",
   "execution_count": null,
   "id": "92e09e87-94b2-434d-a3f7-08d82cabd740",
   "metadata": {},
   "outputs": [],
   "source": []
  }
 ],
 "metadata": {
  "kernelspec": {
   "display_name": "Python 3 (ipykernel)",
   "language": "python",
   "name": "python3"
  },
  "language_info": {
   "codemirror_mode": {
    "name": "ipython",
    "version": 3
   },
   "file_extension": ".py",
   "mimetype": "text/x-python",
   "name": "python",
   "nbconvert_exporter": "python",
   "pygments_lexer": "ipython3",
   "version": "3.12.7"
  }
 },
 "nbformat": 4,
 "nbformat_minor": 5
}
